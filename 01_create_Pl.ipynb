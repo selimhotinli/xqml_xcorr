{
 "cells": [
  {
   "cell_type": "markdown",
   "id": "19b80eb4-c436-48e8-a24e-ef1c397fdd6d",
   "metadata": {
    "tags": []
   },
   "source": [
    "This requires xqml having set up and working. "
   ]
  },
  {
   "cell_type": "code",
   "execution_count": 1,
   "id": "294c9164-c559-406b-aabf-1f2797393f1e",
   "metadata": {
    "tags": []
   },
   "outputs": [],
   "source": [
    "from __future__ import division\n",
    "\n",
    "import numpy as np\n",
    "import healpy as hp\n",
    "from pylab import *\n",
    "import timeit\n",
    "import sys\n",
    "\n",
    "import xqml\n",
    "from xqml.xqml_utils import progress_bar, getstokes\n",
    "from xqml.simulation import Karcmin2var\n",
    "from xqml.simulation import extrapolpixwin"
   ]
  },
  {
   "cell_type": "code",
   "execution_count": 2,
   "id": "b73fa3af-87ee-428b-9eec-391bbd7aef5d",
   "metadata": {
    "tags": []
   },
   "outputs": [
    {
     "data": {
      "text/plain": [
       "<module 'global_params' from '/home/shotinli/xQML/xqml_redo/global_params.py'>"
      ]
     },
     "execution_count": 2,
     "metadata": {},
     "output_type": "execute_result"
    }
   ],
   "source": [
    "import importlib\n",
    "import global_params as gp\n",
    "importlib.reload(gp)"
   ]
  },
  {
   "cell_type": "code",
   "execution_count": 3,
   "id": "076c4a80-a366-4161-b655-62546376c058",
   "metadata": {
    "tags": []
   },
   "outputs": [
    {
     "name": "stdout",
     "output_type": "stream",
     "text": [
      "nside = 8\n",
      "bool_thresh = 0.5\n",
      "lmin = 2\n",
      "lmax = 23\n",
      "dell = 1\n",
      "npixtot = 768\n",
      "fwhm = 0.05\n",
      "pixwin = True\n",
      "muKarcmin =  0.1\n"
     ]
    }
   ],
   "source": [
    "nside = gp.nside\n",
    "bool_thresh = gp.bool_thresh\n",
    "lmin = gp.lmin\n",
    "lmax = gp.lmax\n",
    "dell = gp.dell\n",
    "npixtot = gp.npixtot\n",
    "fwhm = gp.fwhm\n",
    "pixwin = gp.pixwin\n",
    "muKarcmin = gp.muKarcmin\n",
    "\n",
    "print('nside =',nside)\n",
    "print('bool_thresh =',bool_thresh)\n",
    "print('lmin =',lmin)\n",
    "print('lmax =',lmax)\n",
    "print('dell =',dell)\n",
    "print('npixtot =',npixtot)\n",
    "print('fwhm =',fwhm)\n",
    "print('pixwin =',pixwin)\n",
    "print('muKarcmin = ', muKarcmin)"
   ]
  },
  {
   "cell_type": "code",
   "execution_count": 4,
   "id": "1bf2b487-289c-4001-b2b3-289c73c856c3",
   "metadata": {
    "tags": []
   },
   "outputs": [],
   "source": [
    "verbose = True"
   ]
  },
  {
   "cell_type": "code",
   "execution_count": 5,
   "id": "7d3a5bbc-73f5-4ac6-8c69-7db46af9068f",
   "metadata": {
    "tags": []
   },
   "outputs": [
    {
     "name": "stdout",
     "output_type": "stream",
     "text": [
      "stokes: ['I', 'Q', 'U']\n",
      "spec: ['TT', 'EE', 'BB', 'TE', 'EB', 'TB']\n",
      "istokes: [0, 1, 2]\n",
      "ispecs: [0, 1, 2, 3, 5, 4]\n"
     ]
    }
   ],
   "source": [
    "stokes, spec, istokes, ispecs = getstokes(spec=['TT', 'EE', 'BB', 'TE', 'EB', 'TB'])\n",
    "\n",
    "if verbose: \n",
    "    print('stokes:', stokes)\n",
    "    print('spec:', spec)\n",
    "    print('istokes:', istokes)\n",
    "    print('ispecs:', ispecs)"
   ]
  },
  {
   "cell_type": "code",
   "execution_count": 6,
   "id": "dadc6d52-efcb-4553-9ae5-ab8196a65fe2",
   "metadata": {
    "tags": []
   },
   "outputs": [
    {
     "name": "stdout",
     "output_type": "stream",
     "text": [
      "nstokes: 3\n",
      "nspec: 6\n"
     ]
    }
   ],
   "source": [
    "nstokes = len(stokes)\n",
    "nspec = len(spec)\n",
    "if verbose:\n",
    "    print('nstokes:', nstokes)\n",
    "    print('nspec:', nspec)"
   ]
  },
  {
   "cell_type": "code",
   "execution_count": 7,
   "id": "af18852c-f77d-4278-8fc3-f305c20efddc",
   "metadata": {
    "tags": []
   },
   "outputs": [],
   "source": [
    "mask = np.load(\"/gpfs/shotinli/unwisemask_Feb23.npy\",allow_pickle=True)"
   ]
  },
  {
   "cell_type": "code",
   "execution_count": 8,
   "id": "656b5853-0ae8-4ec4-9c7c-7e2614326e1f",
   "metadata": {
    "tags": []
   },
   "outputs": [],
   "source": [
    "mask = hp.pixelfunc.ud_grade(mask, nside)\n",
    "mask[mask<bool_thresh]=0\n",
    "mask[mask>bool_thresh]=1"
   ]
  },
  {
   "cell_type": "code",
   "execution_count": 9,
   "id": "4a0eaf31-5b7d-411b-bfdc-53aeb3ffe52a",
   "metadata": {
    "tags": []
   },
   "outputs": [],
   "source": [
    "bins = xqml.Bins.fromdeltal(lmin, lmax, dell)"
   ]
  },
  {
   "cell_type": "code",
   "execution_count": 10,
   "id": "40b4f946-e435-466f-8330-c18195d0964d",
   "metadata": {
    "tags": []
   },
   "outputs": [],
   "source": [
    "Slmax = int(bins.lmax) if lmax is None else int(lmax)"
   ]
  },
  {
   "cell_type": "code",
   "execution_count": 11,
   "id": "ec8752d0-7602-435e-9dbf-62bcb602593a",
   "metadata": {
    "tags": []
   },
   "outputs": [],
   "source": [
    "bl = hp.gauss_beam(fwhm, lmax=Slmax)"
   ]
  },
  {
   "cell_type": "code",
   "execution_count": 12,
   "id": "a95c136c-56dd-4f15-9deb-7918682dfd91",
   "metadata": {
    "tags": []
   },
   "outputs": [
    {
     "name": "stdout",
     "output_type": "stream",
     "text": [
      "Slmax =  23\n"
     ]
    }
   ],
   "source": [
    "bell = None\n",
    "if bell is not None:\n",
    "    bl = bell[:Slmax+1]\n",
    "if verbose: print('Slmax = ',Slmax)"
   ]
  },
  {
   "cell_type": "code",
   "execution_count": 13,
   "id": "82d03fe4-bc37-4d7e-acba-316742ca1759",
   "metadata": {
    "tags": []
   },
   "outputs": [],
   "source": [
    "mask = np.asarray(mask,bool)"
   ]
  },
  {
   "cell_type": "code",
   "execution_count": 14,
   "id": "19aad0a8-482a-432c-9ee4-a67f218a049b",
   "metadata": {
    "tags": []
   },
   "outputs": [],
   "source": [
    "ipok = np.arange(npixtot)[mask]"
   ]
  },
  {
   "cell_type": "code",
   "execution_count": 15,
   "id": "5be7c6a8-6684-4c5f-8d29-4234ee62d285",
   "metadata": {
    "tags": []
   },
   "outputs": [],
   "source": [
    "npix = ipok.size"
   ]
  },
  {
   "cell_type": "code",
   "execution_count": 16,
   "id": "28822e9a-2d47-4708-a26c-a69932040e1a",
   "metadata": {
    "tags": []
   },
   "outputs": [
    {
     "name": "stdout",
     "output_type": "stream",
     "text": [
      "fpixwin [1.         0.99854914 0.9956526  0.99132073 0.98556897 0.97841778\n",
      " 0.96989252 0.96002334 0.94884494 0.9363965  0.92272134 0.90786681\n",
      " 0.89188395 0.87482728 0.85675449 0.83772617 0.8178055  0.79705793\n",
      " 0.77555089 0.75335344 0.73053599 0.70717    0.68332762 0.65908145]\n"
     ]
    }
   ],
   "source": [
    "fpixwin = extrapolpixwin(nside, Slmax, pixwin) # what does this do? \n",
    "if verbose: \n",
    "    print('fpixwin',fpixwin)"
   ]
  },
  {
   "cell_type": "code",
   "execution_count": 17,
   "id": "cec8505a-2843-4a5c-94ea-74430673775c",
   "metadata": {
    "tags": []
   },
   "outputs": [
    {
     "name": "stdout",
     "output_type": "stream",
     "text": [
      "bell.size =  24\n"
     ]
    }
   ],
   "source": [
    "bell = np.array([bl*fpixwin])[:Slmax+1].ravel()\n",
    "if verbose: \n",
    "    print('bell.size = ',bell.size)"
   ]
  },
  {
   "cell_type": "code",
   "execution_count": 18,
   "id": "0b0dc5ee-e8a7-4cd6-99d6-ea96530f5b8b",
   "metadata": {
    "tags": []
   },
   "outputs": [
    {
     "name": "stdout",
     "output_type": "stream",
     "text": [
      "nbins =  132\n"
     ]
    }
   ],
   "source": [
    "nbins = (bins.nbins)*len(spec)\n",
    "if verbose: print('nbins = ',nbins)\n",
    "# npix = len(ipok)*len(istokes); print(npix)"
   ]
  },
  {
   "cell_type": "code",
   "execution_count": 19,
   "id": "8209d617-a827-4c29-b11d-862a18745ba9",
   "metadata": {
    "tags": []
   },
   "outputs": [],
   "source": [
    "import _libcov as clibcov"
   ]
  },
  {
   "cell_type": "code",
   "execution_count": 20,
   "id": "bc41d315-dff3-4ebe-8465-0fed2ae14d0f",
   "metadata": {
    "tags": []
   },
   "outputs": [
    {
     "name": "stdout",
     "output_type": "stream",
     "text": [
      "note how some of the pixels around the center are masked out\n"
     ]
    },
    {
     "data": {
      "image/png": "[encoded data removed]",
      "text/plain": [
       "<Figure size 300x200 with 1 Axes>"
      ]
     },
     "metadata": {},
     "output_type": "display_data"
    }
   ],
   "source": [
    "if verbose: \n",
    "    plt.figure(figsize=(3,2))\n",
    "    plt.plot(ipok)\n",
    "    plt.ylabel('pixel id')\n",
    "    plt.xlabel('pixel loc in ipok')\n",
    "    print('note how some of the pixels around the center are masked out')\n",
    "    plt.show()"
   ]
  },
  {
   "cell_type": "code",
   "execution_count": 21,
   "id": "020834dc-e74f-4fd9-af6e-a0ae6b5e3523",
   "metadata": {
    "tags": []
   },
   "outputs": [],
   "source": [
    "goesin = np.insert(bins.lmins,bins.nbins,bins.lmax+1)"
   ]
  },
  {
   "cell_type": "code",
   "execution_count": 22,
   "id": "b8edc03b-0fb5-43f2-9997-62daa98709e3",
   "metadata": {
    "tags": []
   },
   "outputs": [
    {
     "name": "stdout",
     "output_type": "stream",
     "text": [
      "ispec [1 1 1 1 1 1]\n"
     ]
    }
   ],
   "source": [
    "ispec = np.zeros(nspec,int)\n",
    "ispec[ispecs] = 1\n",
    "if verbose: \n",
    "    print('ispec',ispec)"
   ]
  },
  {
   "cell_type": "code",
   "execution_count": 23,
   "id": "bf3f997c-65a5-417a-8a9f-0bde25337fb8",
   "metadata": {
    "tags": []
   },
   "outputs": [],
   "source": [
    "# Pl = np.zeros((nspec*nbins, nstokes*npix, nstokes*npix))\n",
    "# S = np.zeros((nstokes*npix, nstokes*npix))"
   ]
  },
  {
   "cell_type": "code",
   "execution_count": 24,
   "id": "bcc6fd97-63f0-4f2c-98ef-f90eca64d3a4",
   "metadata": {
    "tags": []
   },
   "outputs": [
    {
     "name": "stdout",
     "output_type": "stream",
     "text": [
      "(2507, 6)\n"
     ]
    }
   ],
   "source": [
    "file = 'Planck_PowSpec.txt'\n",
    "# L TT TE EE BB PP\n",
    "clth_planck = np.loadtxt('Planck_PowSpec.txt')\n",
    "if verbose: print(clth_planck.shape)"
   ]
  },
  {
   "cell_type": "code",
   "execution_count": 25,
   "id": "4ce70375-21ab-44e3-b142-444523f89fd1",
   "metadata": {
    "tags": []
   },
   "outputs": [],
   "source": [
    "clth = np.zeros((nspec,lmax+1))"
   ]
  },
  {
   "cell_type": "code",
   "execution_count": 26,
   "id": "f45e1c34-27d6-4768-af3b-b3d46d468ed2",
   "metadata": {
    "tags": []
   },
   "outputs": [
    {
     "name": "stdout",
     "output_type": "stream",
     "text": [
      "lmin planck =  2\n"
     ]
    }
   ],
   "source": [
    "print('lmin planck = ',int(clth_planck[0,0]))"
   ]
  },
  {
   "cell_type": "code",
   "execution_count": 27,
   "id": "dd16ac7a-0167-4c68-8959-de2dff4de98d",
   "metadata": {
    "tags": []
   },
   "outputs": [],
   "source": [
    "Lvec = clth_planck[:,0]"
   ]
  },
  {
   "cell_type": "code",
   "execution_count": 51,
   "id": "db602880-5c12-4c34-9ff4-d99db5cbbc73",
   "metadata": {
    "tags": []
   },
   "outputs": [
    {
     "data": {
      "image/png": "[encoded data removed]",
      "text/plain": [
       "<Figure size 300x200 with 1 Axes>"
      ]
     },
     "metadata": {},
     "output_type": "display_data"
    }
   ],
   "source": [
    "# TT TE EE BB PP\n",
    "plt.figure(figsize=(3,2))\n",
    "plt.loglog(Lvec,clth_planck[:,1]) # TT\n",
    "plt.loglog(Lvec,clth_planck[:,2]) # TE\n",
    "plt.loglog(Lvec,-clth_planck[:,2],c='C1',ls='--') # -TE\n",
    "plt.loglog(Lvec,clth_planck[:,3]) # EE\n",
    "plt.loglog(Lvec,clth_planck[:,4]) # BB\n",
    "plt.xlabel('l')\n",
    "plt.show()"
   ]
  },
  {
   "cell_type": "code",
   "execution_count": 29,
   "id": "0faef736-ac8d-492d-9b75-47ebe0e501f5",
   "metadata": {
    "tags": []
   },
   "outputs": [],
   "source": [
    "Lfac = Lvec*(1.+Lvec)/2./np.pi"
   ]
  },
  {
   "cell_type": "code",
   "execution_count": 48,
   "id": "8ab013d8-6178-4358-8f02-62965abf97a5",
   "metadata": {
    "tags": []
   },
   "outputs": [
    {
     "data": {
      "text/plain": [
       "array([   2,    3,    4, ..., 2506, 2507, 2508])"
      ]
     },
     "execution_count": 48,
     "metadata": {},
     "output_type": "execute_result"
    }
   ],
   "source": [
    "Lvec.astype(int)"
   ]
  },
  {
   "cell_type": "code",
   "execution_count": 55,
   "id": "36c580d7-71ab-4e91-a40f-c472c259b6ea",
   "metadata": {
    "tags": []
   },
   "outputs": [],
   "source": [
    "# ['TT', 'EE', 'BB', 'TE', 'EB', 'TB']\n",
    "clth[0] = clth_planck[:lmax+1,1]/Lfac[:lmax+1] # 'TT' -> 'TT'\n",
    "clth[1] = clth_planck[:lmax+1,3]/Lfac[:lmax+1] # 'EE' -> 'EE'\n",
    "clth[2] = clth_planck[:lmax+1,4]/Lfac[:lmax+1] # 'BB' -> 'BB'\n",
    "clth[3] = clth_planck[:lmax+1,2]/Lfac[:lmax+1] # 'TE' -> 'TE'"
   ]
  },
  {
   "cell_type": "code",
   "execution_count": 56,
   "id": "c85a5c29-7812-4282-b8de-f61f7bac6d37",
   "metadata": {
    "tags": []
   },
   "outputs": [
    {
     "data": {
      "image/png": "[encoded data removed]",
      "text/plain": [
       "<Figure size 300x200 with 1 Axes>"
      ]
     },
     "metadata": {},
     "output_type": "display_data"
    }
   ],
   "source": [
    "plt.figure(figsize=(3,2))\n",
    "plt.semilogy(Lvec[:lmax+1],clth[0])\n",
    "plt.semilogy(Lvec[:lmax+1],clth[1])\n",
    "plt.semilogy(Lvec[:lmax+1],clth[2])\n",
    "plt.semilogy(Lvec[:lmax+1],clth[3])\n",
    "plt.xlabel('l')\n",
    "plt.show()"
   ]
  },
  {
   "cell_type": "code",
   "execution_count": 57,
   "id": "ece0a342-f7fc-4beb-bdaf-ab300695f2f0",
   "metadata": {
    "tags": []
   },
   "outputs": [
    {
     "data": {
      "text/plain": [
       "(22,)"
      ]
     },
     "execution_count": 57,
     "metadata": {},
     "output_type": "execute_result"
    }
   ],
   "source": [
    "shape(bins.lbin)"
   ]
  },
  {
   "cell_type": "code",
   "execution_count": 58,
   "id": "7f8bd4cb-6401-450c-a4a8-0b8cde9c5b2c",
   "metadata": {
    "tags": []
   },
   "outputs": [],
   "source": [
    "# # 'TT', 'EE', 'BB', 'TE', 'EB', 'TB'\n",
    "# clth[3] =  # 'EB' -- define this unless you wish to have Pl zero for EB\n",
    "# clth[5] =  # 'TB' -- define this unless you wish to have Pl zero for TB"
   ]
  },
  {
   "cell_type": "code",
   "execution_count": 59,
   "id": "4bfae2e4-d6cc-4072-ae3e-54c4155b9b47",
   "metadata": {
    "tags": []
   },
   "outputs": [],
   "source": [
    "from xqml.libcov import compute_ds_dcb"
   ]
  },
  {
   "cell_type": "code",
   "execution_count": 60,
   "id": "c17fbe1b-1570-4b81-a958-d73e24a3d22e",
   "metadata": {
    "tags": []
   },
   "outputs": [
    {
     "name": "stdout",
     "output_type": "stream",
     "text": [
      "Construct Pl (npix=507): 1.0 sec\n"
     ]
    }
   ],
   "source": [
    "Pl, S = compute_ds_dcb(bins,\n",
    "                       nside,\n",
    "                       ipok,\n",
    "                       bl,\n",
    "                       clth,\n",
    "                       Slmax,\n",
    "                       spec,\n",
    "                       pixwin=pixwin,\n",
    "                       verbose=verbose,\n",
    "                       openMP=True)"
   ]
  },
  {
   "cell_type": "code",
   "execution_count": 61,
   "id": "8c7b40ba-4726-45d9-8734-db012260ce41",
   "metadata": {
    "tags": []
   },
   "outputs": [
    {
     "data": {
      "image/png": "[encoded data removed]",
      "text/plain": [
       "<Figure size 300x200 with 2 Axes>"
      ]
     },
     "metadata": {},
     "output_type": "display_data"
    }
   ],
   "source": [
    "plt.figure(figsize=(3,2))\n",
    "plt.imshow(S!=0)\n",
    "plt.title('Signal Covariance')\n",
    "plt.colorbar()\n",
    "plt.show()"
   ]
  },
  {
   "cell_type": "code",
   "execution_count": 62,
   "id": "160efce1-3ef6-4c3c-ac07-bb8f05275716",
   "metadata": {
    "tags": []
   },
   "outputs": [
    {
     "data": {
      "image/png": "[encoded data removed]",
      "text/plain": [
       "<Figure size 300x200 with 2 Axes>"
      ]
     },
     "metadata": {},
     "output_type": "display_data"
    },
    {
     "data": {
      "image/png": "[encoded data removed]",
      "text/plain": [
       "<Figure size 300x200 with 2 Axes>"
      ]
     },
     "metadata": {},
     "output_type": "display_data"
    },
    {
     "data": {
      "image/png": "[encoded data removed]",
      "text/plain": [
       "<Figure size 300x200 with 2 Axes>"
      ]
     },
     "metadata": {},
     "output_type": "display_data"
    }
   ],
   "source": [
    "id = 14\n",
    "plt.figure(figsize=(3,2))\n",
    "plt.title(r'Pl at $\\ell=$'+str(id))\n",
    "plt.imshow(Pl[id]!=0)\n",
    "plt.colorbar()\n",
    "plt.show()\n",
    "\n",
    "id = 40\n",
    "plt.figure(figsize=(3,2))\n",
    "plt.title(r'Pl at $\\ell=$'+str(id))\n",
    "plt.imshow(Pl[id]!=0)\n",
    "plt.colorbar()\n",
    "plt.show()\n",
    "\n",
    "id = 100\n",
    "plt.figure(figsize=(3,2))\n",
    "plt.title(r'Pl at $\\ell=$'+str(id))\n",
    "plt.imshow(Pl[id]!=0)\n",
    "plt.colorbar()\n",
    "plt.show()"
   ]
  },
  {
   "cell_type": "code",
   "execution_count": 63,
   "id": "b190e13f-2ae6-487f-8562-d9ad4ad76961",
   "metadata": {
    "tags": []
   },
   "outputs": [
    {
     "name": "stderr",
     "output_type": "stream",
     "text": [
      "/tmp/ipykernel_2056185/3563683025.py:3: RuntimeWarning: divide by zero encountered in log\n",
      "  plt.imshow(np.log(np.abs(S)))\n"
     ]
    },
    {
     "data": {
      "image/png": "[encoded data removed]",
      "text/plain": [
       "<Figure size 300x200 with 2 Axes>"
      ]
     },
     "metadata": {},
     "output_type": "display_data"
    }
   ],
   "source": [
    "plt.figure(figsize=(3,2))\n",
    "# plt.title('hmm is this right? \\n what these super large values?')\n",
    "plt.imshow(np.log(np.abs(S)))\n",
    "plt.colorbar()\n",
    "plt.show()"
   ]
  },
  {
   "cell_type": "code",
   "execution_count": null,
   "id": "28e22f5d-1db6-4af3-9c17-8b5d1c8b2f4d",
   "metadata": {
    "tags": []
   },
   "outputs": [],
   "source": []
  },
  {
   "cell_type": "code",
   "execution_count": null,
   "id": "6cb975f9-69f6-49ad-ae3a-33499971605c",
   "metadata": {},
   "outputs": [],
   "source": []
  }
 ],
 "metadata": {
  "kernelspec": {
   "display_name": "Python 3.9 (module)",
   "language": "python",
   "name": "python39-module"
  },
  "language_info": {
   "codemirror_mode": {
    "name": "ipython",
    "version": 3
   },
   "file_extension": ".py",
   "mimetype": "text/x-python",
   "name": "python",
   "nbconvert_exporter": "python",
   "pygments_lexer": "ipython3",
   "version": "3.9.16"
  }
 },
 "nbformat": 4,
 "nbformat_minor": 5
}
